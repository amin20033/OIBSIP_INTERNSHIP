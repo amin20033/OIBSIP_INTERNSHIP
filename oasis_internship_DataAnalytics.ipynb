{
  "nbformat": 4,
  "nbformat_minor": 0,
  "metadata": {
    "colab": {
      "provenance": [],
      "authorship_tag": "ABX9TyPJZWh7GnWhSVZW51yvhn3r",
      "include_colab_link": true
    },
    "kernelspec": {
      "name": "python3",
      "display_name": "Python 3"
    },
    "language_info": {
      "name": "python"
    }
  },
  "cells": [
    {
      "cell_type": "markdown",
      "metadata": {
        "id": "view-in-github",
        "colab_type": "text"
      },
      "source": [
        "<a href=\"https://colab.research.google.com/github/Nurus786/OIBSIP_INTERNSHIP/blob/main/oasis_internship_DataAnalytics.ipynb\" target=\"_parent\"><img src=\"https://colab.research.google.com/assets/colab-badge.svg\" alt=\"Open In Colab\"/></a>"
      ]
    },
    {
      "cell_type": "markdown",
      "source": [
        "PROJECT-4   LEVEL 1"
      ],
      "metadata": {
        "id": "eKBGEp1dtvb9"
      }
    },
    {
      "cell_type": "markdown",
      "source": [
        "SENTIMENT ANALYSIS"
      ],
      "metadata": {
        "id": "SDw0NKZMtZF2"
      }
    },
    {
      "cell_type": "code",
      "execution_count": 15,
      "metadata": {
        "colab": {
          "base_uri": "https://localhost:8080/"
        },
        "id": "vdAN7NZw3g_z",
        "outputId": "ca7e4ba7-af17-4563-bd50-5e324e5e9cd3"
      },
      "outputs": [
        {
          "output_type": "stream",
          "name": "stdout",
          "text": [
            "Drive already mounted at /content/drive; to attempt to forcibly remount, call drive.mount(\"/content/drive\", force_remount=True).\n"
          ]
        }
      ],
      "source": [
        "from google.colab import drive\n",
        "drive.mount(\"/content/drive\")"
      ]
    },
    {
      "cell_type": "code",
      "source": [
        "import pandas as pd\n",
        "df=pd.read_csv(\"/content/drive/MyDrive/sentiment Datasets/Twitter_Data.csv\")"
      ],
      "metadata": {
        "id": "n7iu9CmD4dDV"
      },
      "execution_count": null,
      "outputs": []
    },
    {
      "cell_type": "code",
      "source": [
        "import pandas as pd\n",
        "import numpy as np\n",
        "import matplotlib.pyplot as plt\n",
        "import seaborn as sns\n",
        "from sklearn.feature_extraction.text import CountVectorizer\n",
        "from sklearn.model_selection import train_test_split\n",
        "from sklearn.naive_bayes import MultinomialNB\n",
        "from sklearn.metrics import classification_report,confusion_matrix\n",
        "import nltk\n",
        "from nltk.corpus import stopwords\n",
        "from nltk.tokenize import word_tokenize"
      ],
      "metadata": {
        "id": "Y9I2swDp41w0"
      },
      "execution_count": null,
      "outputs": []
    },
    {
      "cell_type": "code",
      "source": [
        "# Download NLTK resources\n",
        "nltk.download('punkt')\n",
        "nltk.download('stopwords')"
      ],
      "metadata": {
        "colab": {
          "base_uri": "https://localhost:8080/"
        },
        "id": "Sh-t6tL65-eA",
        "outputId": "d5fca1cd-154c-41dc-e75c-ff1bcd7c1339"
      },
      "execution_count": null,
      "outputs": [
        {
          "output_type": "stream",
          "name": "stderr",
          "text": [
            "[nltk_data] Downloading package punkt to /root/nltk_data...\n",
            "[nltk_data]   Unzipping tokenizers/punkt.zip.\n",
            "[nltk_data] Downloading package stopwords to /root/nltk_data...\n",
            "[nltk_data]   Unzipping corpora/stopwords.zip.\n"
          ]
        },
        {
          "output_type": "execute_result",
          "data": {
            "text/plain": [
              "True"
            ]
          },
          "metadata": {},
          "execution_count": 5
        }
      ]
    },
    {
      "cell_type": "code",
      "source": [
        "# Basic information about the dataset\n",
        "print(\"columns in DataFrame:\")\n",
        "print(df.columns.tolist())\n",
        "print(\"\\nshape of Dataframe:\")\n",
        "print(df.shape)\n",
        "print(\"\\nsample Data:\")\n",
        "print(df.head())"
      ],
      "metadata": {
        "colab": {
          "base_uri": "https://localhost:8080/"
        },
        "id": "KTzJYUXQ6WHv",
        "outputId": "321b3adb-1d2a-494b-c77c-baa61207802c"
      },
      "execution_count": null,
      "outputs": [
        {
          "output_type": "stream",
          "name": "stdout",
          "text": [
            "columns in DataFrame:\n",
            "['clean_text', 'category']\n",
            "\n",
            "shape of Dataframe:\n",
            "(162980, 2)\n",
            "\n",
            "sample Data:\n",
            "                                          clean_text  category\n",
            "0  when modi promised “minimum government maximum...      -1.0\n",
            "1  talk all the nonsense and continue all the dra...       0.0\n",
            "2  what did just say vote for modi  welcome bjp t...       1.0\n",
            "3  asking his supporters prefix chowkidar their n...       1.0\n",
            "4  answer who among these the most powerful world...       1.0\n"
          ]
        }
      ]
    },
    {
      "cell_type": "code",
      "source": [
        "#Data Preprocessing\n",
        "#check for missing values\n",
        "print(\"\\nMissing values in each column:\")\n",
        "print(df.isna().sum())\n",
        "\n",
        "# Drop rows with missing values in 'clean_text' or 'category'\n",
        "df.dropna(subset=['clean_text','category',], inplace=True)\n",
        "\n",
        "df['category'] = df['category'].astype(str)"
      ],
      "metadata": {
        "colab": {
          "base_uri": "https://localhost:8080/"
        },
        "id": "cxmvFdt47W29",
        "outputId": "1a3db57a-3460-4266-c9b6-aa9921af4cca"
      },
      "execution_count": null,
      "outputs": [
        {
          "output_type": "stream",
          "name": "stdout",
          "text": [
            "\n",
            "Missing values in each column:\n",
            "clean_text    4\n",
            "category      7\n",
            "dtype: int64\n"
          ]
        }
      ]
    },
    {
      "cell_type": "code",
      "source": [
        "import pandas as pd\n",
        "import nltk\n",
        "from nltk.tokenize import word_tokenize\n",
        "from nltk.corpus import stopwords\n",
        "from sklearn.feature_extraction.text import CountVectorizer\n",
        "from sklearn.model_selection import train_test_split\n",
        "from sklearn.naive_bayes import MultinomialNB\n",
        "from sklearn.metrics import accuracy_score\n",
        "\n",
        "# Make sure to download necessary NLTK data files if not already done\n",
        "nltk.download('punkt')\n",
        "nltk.download('stopwords')\n",
        "\n",
        "# Text preprocessing function\n",
        "def preprocess_text(text):\n",
        "    if not isinstance(text, str):\n",
        "        return ''  # Return empty string for non-string input\n",
        "    tokens = word_tokenize(text.lower())\n",
        "    stop_words = set(stopwords.words('english'))\n",
        "    filtered_tokens = [word for word in tokens if not word in stop_words and word.isalpha()]\n",
        "    return ' '.join(filtered_tokens)  # Join tokens with a space\n",
        "\n",
        "# Example DataFrame creation (if not already created)\n",
        "# df = pd.read_csv('your_file.csv')  # Replace with actual file or DataFrame initialization\n",
        "\n",
        "# Check if 'clean_text' exists and has no missing values\n",
        "if 'clean_text' in df.columns and 'category' in df.columns:\n",
        "    df['clean_text'] = df['clean_text'].fillna('')  # Fill NaNs with empty strings\n",
        "\n",
        "    # Handle missing values in the target column (remove or impute)\n",
        "    df = df.dropna(subset=['category'])  # Remove rows where 'category' is NaN\n",
        "\n",
        "    # Apply preprocessing to the 'clean_text' column\n",
        "    df['clean_text'] = df['clean_text'].apply(preprocess_text)\n",
        "\n",
        "    # Prepare features and target\n",
        "    X = df['clean_text']\n",
        "    Y = df['category']\n",
        "\n",
        "    # Vectorize the text data\n",
        "    vectorizer = CountVectorizer()\n",
        "    X_vectorized = vectorizer.fit_transform(X)\n",
        "\n",
        "    # Split the data into training and testing sets\n",
        "    X_train, X_test, y_train, y_test = train_test_split(X_vectorized, Y, test_size=0.2, random_state=42)\n",
        "\n",
        "    # Initialize and train the Multinomial Naive Bayes model\n",
        "    model = MultinomialNB()\n",
        "    model.fit(X_train, y_train)\n",
        "\n",
        "    # Make predictions on the test set\n",
        "    y_pred = model.predict(X_test)\n",
        "\n",
        "    # Calculate accuracy\n",
        "    accuracy = accuracy_score(y_test, y_pred)\n",
        "    print(f\"Accuracy: {accuracy * 100:.2f}%\")\n",
        "else:\n",
        "    print(\"Columns 'clean_text' and 'category' do not exist in DataFrame.\")\n",
        "\n"
      ],
      "metadata": {
        "colab": {
          "base_uri": "https://localhost:8080/"
        },
        "id": "IVvEtse4qhbg",
        "outputId": "d1fb79e4-f17e-46d5-fe01-132dcd81655c"
      },
      "execution_count": 11,
      "outputs": [
        {
          "output_type": "stream",
          "name": "stderr",
          "text": [
            "[nltk_data] Downloading package punkt to /root/nltk_data...\n",
            "[nltk_data]   Package punkt is already up-to-date!\n",
            "[nltk_data] Downloading package stopwords to /root/nltk_data...\n",
            "[nltk_data]   Package stopwords is already up-to-date!\n"
          ]
        },
        {
          "output_type": "stream",
          "name": "stdout",
          "text": [
            "Accuracy: 72.93%\n"
          ]
        }
      ]
    },
    {
      "cell_type": "code",
      "source": [
        "from sklearn.metrics import classification_report, confusion_matrix\n",
        "\n",
        "# Evaluate the model\n",
        "print(\"\\nClassification Report:\")\n",
        "print(classification_report(y_test, y_pred))\n",
        "\n",
        "print(\"\\nConfusion Matrix:\")\n",
        "conf_matrix = confusion_matrix(y_test, y_pred)\n",
        "print(conf_matrix)\n"
      ],
      "metadata": {
        "colab": {
          "base_uri": "https://localhost:8080/"
        },
        "id": "21neZOpfs37o",
        "outputId": "796cbbb1-60bf-4fcd-f23c-1937b779fd22"
      },
      "execution_count": 14,
      "outputs": [
        {
          "output_type": "stream",
          "name": "stdout",
          "text": [
            "\n",
            "Classification Report:\n",
            "              precision    recall  f1-score   support\n",
            "\n",
            "        -1.0       0.71      0.61      0.66      7230\n",
            "         0.0       0.87      0.61      0.71     10961\n",
            "         1.0       0.68      0.88      0.77     14404\n",
            "\n",
            "    accuracy                           0.73     32595\n",
            "   macro avg       0.75      0.70      0.71     32595\n",
            "weighted avg       0.75      0.73      0.72     32595\n",
            "\n",
            "\n",
            "Confusion Matrix:\n",
            "[[ 4421   424  2385]\n",
            " [  673  6652  3636]\n",
            " [ 1109   597 12698]]\n"
          ]
        }
      ]
    },
    {
      "cell_type": "code",
      "source": [
        "import matplotlib.pyplot as plt\n",
        "import seaborn as sns\n",
        "\n",
        "# Visualization\n",
        "plt.figure(figsize=(10, 7))\n",
        "sns.heatmap(conf_matrix, annot=True, fmt='d', cmap='Blues', xticklabels=model.classes_, yticklabels=model.classes_)\n",
        "plt.xlabel('Predicted Label')\n",
        "plt.ylabel('True Label')\n",
        "plt.title('Confusion Matrix')\n",
        "plt.show()\n"
      ],
      "metadata": {
        "colab": {
          "base_uri": "https://localhost:8080/",
          "height": 641
        },
        "id": "tbFztkxdyLpi",
        "outputId": "93c686fb-64a3-40a4-fc79-328fdf126eed"
      },
      "execution_count": 18,
      "outputs": [
        {
          "output_type": "display_data",
          "data": {
            "text/plain": [
              "<Figure size 1000x700 with 2 Axes>"
            ],
            "image/png": "[encoded data removed]"
          },
          "metadata": {}
        }
      ]
    },
    {
      "cell_type": "code",
      "source": [
        "# Example of using the model for new prediction\n",
        "def predict_sentiment(text):\n",
        "  text_processed = preprocess_text(text)\n",
        "  text_vectorized = vectorizer.transform([text_processed])\n",
        "  prediction = model.predict(text_vectorized)\n",
        "  return prediction[0]"
      ],
      "metadata": {
        "id": "hIw3RwREybso"
      },
      "execution_count": 19,
      "outputs": []
    },
    {
      "cell_type": "code",
      "source": [
        "# Example usage\n",
        "example_text = \"I love the new features in this app!\"\n",
        "print(f\"\\nsentiment prediction for '{example_text}': {predict_sentiment(example_text)}\")\n",
        "\n",
        "print(\"Sentiment Analysis Complete.\")"
      ],
      "metadata": {
        "colab": {
          "base_uri": "https://localhost:8080/"
        },
        "id": "GXB76YNKzwoN",
        "outputId": "18626c16-cf8b-4d8e-8d38-7eeb375f48e2"
      },
      "execution_count": 20,
      "outputs": [
        {
          "output_type": "stream",
          "name": "stdout",
          "text": [
            "\n",
            "sentiment prediction for 'I love the new features in this app!': 1.0\n",
            "Sentiment Analysis Complete.\n"
          ]
        }
      ]
    }
  ]
}